{
 "cells": [
  {
   "cell_type": "code",
   "execution_count": 1,
   "metadata": {
    "collapsed": false
   },
   "outputs": [
    {
     "name": "stdout",
     "output_type": "stream",
     "text": [
      "Reading dataset...\n",
      "Length of dataset = 188318\n",
      "Factorizing categorical variables...\n",
      "Finished loading and factorized data.\n"
     ]
    }
   ],
   "source": [
    "# Supress unnecessary warnings so that presentation looks clean\n",
    "import warnings\n",
    "warnings.filterwarnings('ignore')\n",
    "\n",
    "# Read raw data from the file\n",
    "import pandas as pd #provides data structures to quickly analyze data\n",
    "import numpy as np\n",
    "import time\n",
    "\n",
    "\n",
    "print (\"Reading dataset...\")\n",
    "#Read the train dataset\n",
    "dataset = pd.read_csv('../input/trainv4.csv')\n",
    "#Read test dataset\n",
    "dataset_test = pd.read_csv('../input/testv4.csv')\n",
    "\n",
    "print (\"Length of dataset = \" + str(len(dataset)))\n",
    "\n",
    "## cat117 is cont 2\n",
    "## cat 118 is High vs. Low\n",
    "print (\"Factorizing categorical variables...\")\n",
    "features = dataset.columns\n",
    "cats = [feat for feat in features if 'cat' in feat]\n",
    "## print cats\n",
    "for feat in cats:\n",
    "    dataset[feat] = pd.factorize(dataset[feat], sort=True)[0]\n",
    "    dataset_test[feat] = pd.factorize(dataset_test[feat], sort=True)[0]\n",
    "print (\"Finished loading and factorized data.\")"
   ]
  },
  {
   "cell_type": "code",
   "execution_count": 2,
   "metadata": {
    "collapsed": false
   },
   "outputs": [
    {
     "name": "stdout",
     "output_type": "stream",
     "text": [
      "Preprocessing the Data...\n",
      "Responses:\n",
      "[ 7.78870066  7.30222685  8.07249545 ...,  8.69326862  7.47469844\n",
      "  8.50749027]\n"
     ]
    }
   ],
   "source": [
    "print (\"Preprocessing the Data...\")\n",
    "## Response\n",
    "shift = 200\n",
    "response = np.log(dataset['loss'].values) + shift\n",
    "\n",
    "## Drop the response from our dataset\n",
    "dataset = dataset.drop(['loss', 'id'], 1)\n",
    "\n",
    "print \"Responses:\"\n",
    "print response"
   ]
  },
  {
   "cell_type": "code",
   "execution_count": 6,
   "metadata": {
    "collapsed": false
   },
   "outputs": [
    {
     "data": {
      "text/plain": [
       "434.0"
      ]
     },
     "execution_count": 6,
     "metadata": {},
     "output_type": "execute_result"
    }
   ],
   "source": [
    "import math\n",
    "round(math.sqrt(len(dataset)))"
   ]
  },
  {
   "cell_type": "code",
   "execution_count": 12,
   "metadata": {
    "collapsed": false
   },
   "outputs": [
    {
     "name": "stdout",
     "output_type": "stream",
     "text": [
      "--------------------------------------------------\n",
      "KNN with 1 Fold Validation\n",
      "--------------------------------------------------\n",
      "Creating Training and Validation sets...\n",
      "Length of Validation Set:18832\n",
      "Length of Train Set:169486\n",
      "Ratio: 0.111112422265\n",
      "Training KNN Model...\n",
      "                 0\n",
      "0      1943.477201\n",
      "1      2174.715670\n",
      "2      1908.533927\n",
      "3      2174.024626\n",
      "4      2218.301691\n",
      "5      2808.088366\n",
      "6      2306.648928\n",
      "7      1908.382807\n",
      "8      2171.237093\n",
      "9      2032.194497\n",
      "10     2060.023509\n",
      "11     2142.296557\n",
      "12     2095.546639\n",
      "13     1781.440945\n",
      "14     2208.022745\n",
      "15     2232.395735\n",
      "16     2093.751629\n",
      "17     1905.935769\n",
      "18     1996.944586\n",
      "19     2456.924036\n",
      "20     1842.662521\n",
      "21     2319.779187\n",
      "22     2252.642405\n",
      "23     1917.847980\n",
      "24     1674.752245\n",
      "25     2241.064336\n",
      "26     1674.275998\n",
      "27     2387.349387\n",
      "28     2240.483379\n",
      "29     2285.391324\n",
      "...            ...\n",
      "18802  1803.008587\n",
      "18803  1693.948042\n",
      "18804  1964.311811\n",
      "18805  1790.653735\n",
      "18806  2176.865518\n",
      "18807  2011.935753\n",
      "18808  2125.716427\n",
      "18809  1868.788951\n",
      "18810  1718.135996\n",
      "18811  2369.210744\n",
      "18812  2033.547063\n",
      "18813  1897.761445\n",
      "18814  2035.167121\n",
      "18815  2386.728411\n",
      "18816  2014.003770\n",
      "18817  2136.091458\n",
      "18818  2255.233223\n",
      "18819  1902.068601\n",
      "18820  1866.591502\n",
      "18821  2100.549054\n",
      "18822  2546.365748\n",
      "18823  1782.964684\n",
      "18824  1845.806356\n",
      "18825  2734.967084\n",
      "18826  1866.507273\n",
      "18827  2208.503777\n",
      "18828  1699.366674\n",
      "18829  2049.355503\n",
      "18830  1845.632793\n",
      "18831  2061.718267\n",
      "\n",
      "[18832 rows x 1 columns]\n",
      "MAE: 1729.26300132\n"
     ]
    }
   ],
   "source": [
    "print(\"-\")*50\n",
    "print \"KNN with 1 Fold Validation\"\n",
    "print(\"-\")*50\n",
    "\n",
    "import math\n",
    "from sklearn.neighbors import KNeighborsRegressor\n",
    "from sklearn.metrics import mean_absolute_error\n",
    "from sklearn import cross_validation\n",
    "from sklearn.cross_validation import KFold\n",
    "\n",
    "print (\"Creating Training and Validation sets...\")\n",
    "#get the number of rows and columns\n",
    "\n",
    "seed = 0\n",
    "\n",
    "X_train, X_val, Y_train, Y_val = cross_validation.train_test_split(dataset, response, test_size=.1, random_state=seed)\n",
    "print \"Length of Validation Set:\" + str(len(Y_val))\n",
    "print \"Length of Train Set:\" + str(len(Y_train))\n",
    "print \"Ratio: \" + str(len(Y_val) / float(len(Y_train)))\n",
    "\n",
    "seed = 0\n",
    "print \"Training KNN Model...\"\n",
    "## n_jobs=-1: Use all cores\n",
    "## n_neighbors = Number of Neighbors\n",
    "model = KNeighborsRegressor(n_neighbors=round(math.sqrt(len(dataset))),n_jobs=-1)\n",
    "model.fit(X_train, Y_train)\n",
    "\n",
    "validations_predictions = np.exp(model.predict(X_val)) - shift\n",
    "print pd.DataFrame(validations_predictions)\n",
    "pd.DataFrame(validations_predictions).to_csv(\"KNN.csv\", index=False)\n",
    "    \n",
    "MAE = mean_absolute_error(np.exp(Y_val)-shift, np.exp(model.predict(X_val))-shift)\n",
    "print \"MAE: \" + str(MAE)"
   ]
  },
  {
   "cell_type": "code",
   "execution_count": 14,
   "metadata": {
    "collapsed": false
   },
   "outputs": [],
   "source": [
    "predictions = np.exp(model.predict(dataset_test.drop(['id'],1))) - shift\n",
    "pd.DataFrame(predictions).to_csv(\"test_resultsKNN.csv\", index=False)"
   ]
  }
 ],
 "metadata": {
  "anaconda-cloud": {},
  "kernelspec": {
   "display_name": "Python [Root]",
   "language": "python",
   "name": "Python [Root]"
  },
  "language_info": {
   "codemirror_mode": {
    "name": "ipython",
    "version": 2
   },
   "file_extension": ".py",
   "mimetype": "text/x-python",
   "name": "python",
   "nbconvert_exporter": "python",
   "pygments_lexer": "ipython2",
   "version": "2.7.12"
  }
 },
 "nbformat": 4,
 "nbformat_minor": 0
}
